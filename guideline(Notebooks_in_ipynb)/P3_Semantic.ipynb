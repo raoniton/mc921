{
  "nbformat": 4,
  "nbformat_minor": 0,
  "metadata": {
    "colab": {
      "provenance": [],
      "toc_visible": true
    },
    "kernelspec": {
      "name": "python3",
      "display_name": "Python 3"
    },
    "language_info": {
      "name": "python"
    }
  },
  "cells": [
    {
      "cell_type": "markdown",
      "source": [
        "# Third Project: Semantic Analysis"
      ],
      "metadata": {
        "id": "tKzzPKsxVa0T"
      }
    },
    {
      "cell_type": "markdown",
      "metadata": {
        "id": "7GAyRm-YVSu9"
      },
      "source": [
        "Once syntax trees are built, additional analysis can be done by evaluating\n",
        "attributes on tree nodes to gather necessary semantic information from the\n",
        "source code not easily detected during parsing. It usually includes type\n",
        "checking, symbol table construction to makes sure a variable is declared\n",
        "before use, and decorating the AST to prepare it for the next compilation phase."
      ]
    },
    {
      "cell_type": "markdown",
      "source": [
        "## Type System"
      ],
      "metadata": {
        "id": "_tPV24rUXFHU"
      }
    },
    {
      "cell_type": "markdown",
      "metadata": {
        "id": "wJLAhrrpVSvC"
      },
      "source": [
        "First, you will need to define objects that represent the different\n",
        "builtin data types and record information about their capabilities.\n",
        "\n",
        "Let's define classes that represent types.  There is a general class used to represent\n",
        "all types.  Each basic type is then a singleton instance of the type class.\n",
        "```python\n",
        "class MJType:\n",
        "      pass\n",
        "\n",
        "int_type = MJType(\"int\", ...)\n",
        "char_type = MJType(\"char\", ...)\n",
        "```\n",
        "The contents of the type class is entirely up to you.  However, you will minimally need\n",
        "to encode some information about what operators are supported (+, -, *, etc.), and\n",
        "default values.\n",
        "\n",
        "Once you have defined the built-in types, you will need to make sure they get registered\n",
        "with any symbol tables or code that checks for type names."
      ]
    },
    {
      "cell_type": "code",
      "execution_count": null,
      "metadata": {
        "pycharm": {
          "name": "#%%\n"
        },
        "id": "yfgJ5GeoVSvD"
      },
      "outputs": [],
      "source": [
        "class MJType:\n",
        "    \"\"\"\n",
        "    Class that represents a type in the MiniJava language.  Basic\n",
        "    Types are declared as singleton instances of this type.\n",
        "    \"\"\"\n",
        "\n",
        "    def __init__(\n",
        "        self, name, binary_ops=set(), unary_ops=set(),\n",
        "        rel_ops=set(), assign_ops=set()\n",
        "    ):\n",
        "        \"\"\"\n",
        "        You must implement yourself and figure out what to store.\n",
        "        \"\"\"\n",
        "        self.typename = name\n",
        "        self.unary_ops = unary_ops\n",
        "        self.binary_ops = binary_ops\n",
        "        self.rel_ops = rel_ops\n",
        "        self.assign_ops = assign_ops\n",
        "\n",
        "    def __str__(self):\n",
        "        return f\"type({self.typename})\"\n",
        "\n",
        "# Create specific instances of basic types. You will need to add\n",
        "# appropriate arguments depending on your definition of MJType\n",
        "IntType = MJType(\n",
        "    name=\"int\",\n",
        "    binary_ops={\"+\", \"-\", \"*\", \"/\", \"%\"},\n",
        "    unary_ops={\"-\", \"+\"},\n",
        "    rel_ops={\"==\", \"!=\", \"<\", \">\", \"<=\", \">=\"},\n",
        "    assign_ops={\"=\"},\n",
        ")\n",
        "\n",
        "BooleanType = MJType(\n",
        "    name=\"boolean\",\n",
        "    # TODO: Complete\n",
        ")\n",
        "\n",
        "CharType = MJType(\n",
        "    name=\"char\",\n",
        "    # TODO: Complete\n",
        ")\n",
        "\n",
        "# TODO: Complete the basic types in your repository\n",
        "\n",
        "# Array & Object types need to be instantiated for each declaration\n",
        "class ArrayType(MJType):\n",
        "    def __init__(self, array_type: str, element_type: str, size=None):\n",
        "        \"\"\"\n",
        "        :param array_type: Type of the array (int[] or char[])\n",
        "        :param element_type: Type of the array elements (int or char)\n",
        "        :param size: Integer with the length of the array.\n",
        "        \"\"\"\n",
        "        self.size = size\n",
        "        self.element_type = element_type\n",
        "        super().__init__(\n",
        "            name=array_type, rel_ops={\"==\", \"!=\"}, assign_ops={\"=\"}\n",
        "        )\n",
        "\n",
        "# TODO: Complete in your repository\n"
      ]
    },
    {
      "cell_type": "markdown",
      "metadata": {
        "id": "ZqrUrT8IVSvG"
      },
      "source": [
        "In your type checking code, you will need to reference the\n",
        "above type objects.   Think of how you will want to access\n",
        "them."
      ]
    },
    {
      "cell_type": "markdown",
      "source": [
        "## Symbol table"
      ],
      "metadata": {
        "id": "0CCb-2KPXNVE"
      }
    },
    {
      "cell_type": "markdown",
      "metadata": {
        "id": "4HtkxWq1VSvH"
      },
      "source": [
        "You will need to define a symbol table that keeps track of\n",
        "previously declared identifiers.  The symbol table will be consulted\n",
        "whenever the compiler needs to lookup information about variable and\n",
        "constant declarations.\n",
        "\n"
      ]
    },
    {
      "cell_type": "code",
      "execution_count": null,
      "metadata": {
        "id": "yRP5Nr5TVSvI"
      },
      "outputs": [],
      "source": [
        "class SymbolTable:\n",
        "    \"\"\"Class representing a symbol table.\n",
        "\n",
        "    `add` and `lookup` methods are given, however you still need to find a way to\n",
        "    deal with scopes.\n",
        "\n",
        "    ## Attributes\n",
        "    :data: the content of the SymbolTable\n",
        "    \"\"\"\n",
        "\n",
        "    def __init__(self) -> None:\n",
        "        \"\"\"Initializes the SymbolTable.\"\"\"\n",
        "        self.__data = dict()\n",
        "\n",
        "    @property\n",
        "    def data(self) -> Dict[str, Any]:\n",
        "        \"\"\"Returns a copy of the SymbolTable.\"\"\"\n",
        "        return deepcopy(self.__data)\n",
        "\n",
        "    def add(self, name: str, value: Any) -> None:\n",
        "        \"\"\"Adds to the SymbolTable.\n",
        "\n",
        "        :param name: the identifier on the SymbolTable\n",
        "        :param value: the value to assign to the given `name`\n",
        "        \"\"\"\n",
        "        self.__data[name] = value\n",
        "\n",
        "    def lookup(self, name: str) -> Union[Any, None]:\n",
        "        \"\"\"Searches `name` on the SymbolTable and returns the value\n",
        "        assigned to it.\n",
        "\n",
        "        :param name: the identifier that will be searched on the SymbolTable\n",
        "        :return: the value assigned to `name` on the SymbolTable. If `name` is not found, `None` is returned.\n",
        "        \"\"\"\n",
        "        return self.__data.get(name)"
      ]
    },
    {
      "cell_type": "markdown",
      "metadata": {
        "id": "-agKvCBoVSvJ"
      },
      "source": [
        "❗Notice that the semantic analysis will have to manage the symbol table in order to handle the multiple scopes of the program. To do so, you must increment the existing implementation given to you.\n",
        "\n",
        "Try to think an answer to the following questions to implement multiple scopes:\n",
        "\n",
        " - Which data structure can represent multiple scopes?\n",
        " - When should a new scope be created?\n",
        " - When should an existing scope be deleted?\n",
        " - How should a variable lookup work with multiple scopes?"
      ]
    },
    {
      "cell_type": "markdown",
      "source": [
        "## Visiting the AST"
      ],
      "metadata": {
        "id": "0OMfeChYXRps"
      }
    },
    {
      "cell_type": "markdown",
      "metadata": {
        "id": "ILg_fxtTVSvJ"
      },
      "source": [
        "The visitor pattern is often used in compiler to traverse data structures that represent the programs, either syntax\n",
        "tree or any other intermediate representations. For this purpose, we provide the following `NodeVisitor` class to\n",
        "allow you to visit the AST. This class was modeled after Python's own AST visiting facilities (the AST module of Python 3)."
      ]
    },
    {
      "cell_type": "code",
      "execution_count": null,
      "metadata": {
        "pycharm": {
          "name": "#%%\n"
        },
        "id": "jK7JMmu5VSvK"
      },
      "outputs": [],
      "source": [
        "class NodeVisitor:\n",
        "    \"\"\" A base NodeVisitor class for visiting uc_ast nodes.\n",
        "        Subclass it and define your own visit_XXX methods, where\n",
        "        XXX is the class name you want to visit with these\n",
        "        methods.\n",
        "    \"\"\"\n",
        "\n",
        "    _method_cache = None\n",
        "\n",
        "    def visit(self, node):\n",
        "        \"\"\" Visit a node.\n",
        "        \"\"\"\n",
        "\n",
        "        if self._method_cache is None:\n",
        "            self._method_cache = {}\n",
        "\n",
        "        visitor = self._method_cache.get(node.__class__.__name__, None)\n",
        "        if visitor is None:\n",
        "            method = 'visit_' + node.__class__.__name__\n",
        "            visitor = getattr(self, method, self.generic_visit)\n",
        "            self._method_cache[node.__class__.__name__] = visitor\n",
        "\n",
        "        return visitor(node)\n",
        "\n",
        "    def generic_visit(self, node):\n",
        "        \"\"\" Called if no explicit visitor function exists for a\n",
        "            node. Implements preorder visiting of the node.\n",
        "        \"\"\"\n",
        "        for _, child in node.children():\n",
        "            self.visit(child)"
      ]
    },
    {
      "cell_type": "markdown",
      "metadata": {
        "id": "ew2W0aRmVSvL"
      },
      "source": [
        "For example, a small visitor for constant can be implemented this way:\n",
        "\n",
        "```python\n",
        "class ConstantVisitor(NodeVisitor):\n",
        "    def __init__(self):\n",
        "        self.values = []\n",
        "\n",
        "    def visit_Constant(self, node: Constant):\n",
        "        self.values.append(node.value)\n",
        "```\n",
        "\n",
        "This visitor would create a list of values of all the constant nodes encountered below the given node. To use it, simply instantiate the visitor and call its visit method on the node of your choice:\n",
        "\n",
        "```python\n",
        "cv = ConstantVisitor()\n",
        "cv.visit(node)\n",
        "```\n",
        "\n",
        "Note that:\n",
        "*   The `generic_visit()` method will be called for AST nodes for which no `visit_XXX` method was defined.\n",
        "*   The children of nodes for which a `visit_XXX` method was defined will not be visited - if you need this, call\n",
        "    `generic_visit()` on the node.\n",
        "*   The `generic_visit()` method could be implemented more efficiently by defining AST nodes as iterable object using\n",
        "    the `__iter__()` method of Python. Feel free to optimize"
      ]
    },
    {
      "cell_type": "markdown",
      "source": [
        "## Standardized Errors"
      ],
      "metadata": {
        "id": "h4WAhYVtXykL"
      }
    },
    {
      "cell_type": "markdown",
      "metadata": {
        "id": "e_d7TJ5WVSvL"
      },
      "source": [
        "To check for semantic errors and to print their description, the following infrastructure should be used:"
      ]
    },
    {
      "cell_type": "code",
      "execution_count": null,
      "metadata": {
        "id": "MelH9q2vVSvL"
      },
      "outputs": [],
      "source": [
        "class SemanticError:\n",
        "    def __init__(self, message, coord):\n",
        "        self.message = message\n",
        "        self.coord = coord\n",
        "\n",
        "    def __str__(self):\n",
        "        return f\"SemanticError: {self.message} {self.coord}\"\n",
        "\n",
        "# Factory for creating semantic errors\n",
        "class SemanticErrorFactory:\n",
        "    @staticmethod\n",
        "    def create(\n",
        "        error_type: SE, name: str = \"\", ltype: str = \"\", rtype: str = \"\"\n",
        "    ) -> SemanticError:\n",
        "        error_msgs = {\n",
        "            SE.UNDECLARED_NAME: f\"{name} is not defined\",\n",
        "            SE.UNDECLARED_CLASS: f\"{name} is not a class type\",\n",
        "            SE.UNDECLARED_METHOD: f\"{name} is not a class method\",\n",
        "            SE.UNDECLARED_FIELD: f\"{name} is not defined in the class\",\n",
        "            SE.ALREADY_DECLARED_NAME: f\"Name {name} is already defined in this scope\",\n",
        "            SE.ALREADY_DECLARED_CLASS: f\"{name} class has already been defined\",\n",
        "            SE.ALREADY_DECLARED_METHOD: f\"{name} method has already been defined\",\n",
        "            SE.ALREADY_DECLARED_FIELD: f\"Field {name} has already been defined\",\n",
        "            SE.ASSERT_EXPRESSION_TYPE_MISMATCH: \"Assert expression must be of type(bool)\",\n",
        "            SE.PRINT_EXPRESSION_TYPE_MISMATCH: \"Print expression must be of type(char), type(int) or type(String)\",\n",
        "            SE.ASSIGN_TYPE_MISMATCH: f\"Cannot assign {rtype} to {ltype}\",\n",
        "            SE.ARRAY_REF_TYPE_MISMATCH: f\"Cannot do an ArrayRef of {ltype}\",\n",
        "            SE.BINARY_EXPRESSION_TYPE_MISMATCH: f\"Binary operator {name} does not have matching LHS/RHS types\",\n",
        "            SE.UNSUPPORTED_BINARY_OPERATION: f\"Binary operator {name} is not supported by {ltype}\",\n",
        "            SE.WRONG_BREAK_STATEMENT: \"Break statement must be inside a loop\",\n",
        "            SE.ARRAY_DIMENTION_MISMATCH: f\"Array dimension must be of type(int), not {ltype}\",\n",
        "            SE.ARGUMENT_COUNT_MISMATCH: f\"Number of arguments to call {name} method mismatch\",\n",
        "            SE.PARAMETER_TYPE_MISMATCH: f\"Type mismatch with parameter {name}\",\n",
        "            SE.PARAMETER_ALREADY_DECLARED: f\"Parameter {name} has already been defined\",\n",
        "            SE.CONDITIONAL_EXPRESSION_TYPE_MISMATCH: f\"conditional expression is {ltype}, not type(bool)\",\n",
        "            SE.RETURN_TYPE_MISMATCH: f\"Return of {ltype} is incompatible with {rtype} method definition\",\n",
        "            SE.UNSUPPORTED_UNARY_OPERATION: f\"Unary operator {name} is not supported\",\n",
        "            SE.OBJECT_TYPE_MUST_BE_A_CLASS: f\"The type of {name} must be a class\",\n",
        "            SE.INVALID_LENGTH_TARGET: \"The target of the length operation must be of type array or String\",\n",
        "            SE.NOT_A_CONSTANT: \"Expression must be a constant\",\n",
        "            SE.ARRAY_ELEMENT_TYPE_MISMATCH: f\"{name} of {rtype} is incompatible with {ltype} of array\",\n",
        "        }\n",
        "\n",
        "        return SemanticError(error_msgs[error_type], \"\")\n",
        "\n",
        "# Semantic assert function that uses the factory\n",
        "# to create and throw the exception\n",
        "def assert_semantic(\n",
        "    condition: bool,\n",
        "    error_type: SemanticErrorType,\n",
        "    coord: str,\n",
        "    name: str = \"\",\n",
        "    ltype: str = \"\",\n",
        "    rtype: str = \"\",\n",
        "):\n",
        "    if not condition:\n",
        "        semantic_error = SemanticErrorFactory.create(\n",
        "            error_type, name, ltype, rtype\n",
        "        )\n",
        "        semantic_error.coord = coord\n",
        "        print(semantic_error, file=sys.stdout)\n",
        "        sys.exit(1)\n"
      ]
    },
    {
      "cell_type": "markdown",
      "metadata": {
        "id": "qimsXSV5VSvM"
      },
      "source": [
        "As shown in the function code, each message is associated to a specific semantic error (SE). The error message is printed according to the given coordinate and facultative arguments. The `assert_semantic` function is used to standardize the output of the semantic analysis and must be used to pass the automatic tests.\n",
        "\n",
        "The function checks the provided condition. If the condition is `True`, no action is taken and the semantic analysis continues.\n",
        "If the condition is `False`, the function uses the `SemanticErrorFactory` (defined alongside the enum) to create a semantic error object:\n",
        "- The factory maps the provided `error_type` to a specific error message.\n",
        "- It uses additional parameters (`name`, `ltype`, `rtype`) to format a detailed error message.\n",
        "\n",
        "\n",
        "Some examples showing how to use the method are provided in the next section."
      ]
    },
    {
      "cell_type": "markdown",
      "source": [
        "### Errors Samples"
      ],
      "metadata": {
        "id": "FUo4hfn4ZmCS"
      }
    },
    {
      "cell_type": "markdown",
      "source": [
        "Below there are examples of code that should trigger some of the errors above.\n",
        "\n",
        "1. `x` is not defined\n",
        "```java\n",
        "int a = x;\n",
        "```\n",
        "\n",
        "1. Subscript must be of type(int), not `type(char)`\n",
        "```java\n",
        "int[] arr = new array[3]; int b = arr['p'];\n",
        "```\n",
        "\n",
        "1. Expression must be of type(bool)\n",
        "```java\n",
        "public void f() { assert 2; };\n",
        "```\n",
        "\n",
        "1. Cannot assign `type(char)` to `type(int)`\n",
        "```java\n",
        "public void f() { int a; a = 'c'; }\n",
        "```\n",
        "\n",
        "1. Binary operator `>` does not have matching LHS/RHS types\n",
        "```java\n",
        "public void f (int a, char b) { if (a > b) {} }\n",
        "```\n",
        "\n",
        "1. Binary operator `+` is not supported by `type(char)`\n",
        "```java\n",
        "public char c = 'a' + 'b';\n",
        "```\n",
        "\n",
        "1. Break statement must be inside a loop\n",
        "```java\n",
        "public void f () { break; }\n",
        "```\n",
        "\n",
        "1. `var` initialization type mismatch\n",
        "```java\n",
        "int var = 'a';\n",
        "```\n",
        "\n",
        "1. var initialization must be a single element\n",
        "```java\n",
        "int var = {1, 2};\n",
        "```\n",
        "\n",
        "1. conditional expression is type(int), not type(bool)\n",
        "```java\n",
        "public void f () { if (2){} };\n",
        "```\n",
        "\n",
        "1. `i` is not a function\n",
        "```java\n",
        "public void f(int i) { i(3); }\n",
        "```\n",
        "\n",
        "1. No. arguments to call {name} function mismatch\n",
        "```java\n",
        "public int sum (int a, int b) { return a + b; }\n",
        "public void f() { sum(1, 2, 3); }\n",
        "```\n",
        "\n",
        "1. Type mismatch with parameter `b`\n",
        "```java\n",
        "public int sum (int a, int b) { return a + b; }\n",
        "public void f() { sum(1, '1'); }\n",
        "```\n",
        "\n",
        "1. The condition expression must be of type(bool)\n",
        "```java\n",
        "public void f() { int i = 0; if (i) {} }\n",
        "```\n",
        "\n",
        "1. Expression must be a constant\n",
        "```java\n",
        "public void f() { int i = 1; int y[1] = {i}; };\n",
        "```\n",
        "\n",
        "1. Return of `type(char)` is incompatible with `type(int)` function definition\n",
        "```java\n",
        "public int f() { return '1'; }\n",
        "```\n",
        "\n",
        "1. Name `i` is already defined in this scope\n",
        "```java\n",
        "public void f(int i) { int i; }\n",
        "```\n",
        "\n",
        "1. Unary operator `!` is not supported\n",
        "```java\n",
        "char c = !'a';\n",
        "```\n",
        "\n",
        "            "
      ],
      "metadata": {
        "id": "VF5bSha4ZrzL"
      }
    },
    {
      "cell_type": "markdown",
      "source": [
        "## Implementing the analysis"
      ],
      "metadata": {
        "id": "ujSDEGfCX14B"
      }
    },
    {
      "cell_type": "markdown",
      "metadata": {
        "id": "I2kR9UcvVSvM"
      },
      "source": [
        "Finally, you'll need to write code that walks the AST, decorates it with additional information and enforces a set of\n",
        "semantic rules as explained by the guidelines below. For walking the AST, use the NodeVisitor class.\n",
        "\n",
        "An initial\n",
        "implementation of the semantic analysis is provided in the code below.\n",
        "\n",
        "In the case of MiniJava, the language permits the use of symbols—such as classes, methods, and fields—before their actual declaration in the source code. To handle this characteristic correctly, the semantic analysis phase must be divided into two distinct stages: global symbol collection and semantic validation.\n",
        "\n",
        "**First Stage: Symbol Table Construction**\n",
        "\n",
        "In this initial stage, the compiler performs a top-level traversal of the program's abstract syntax tree (AST) to construct the global symbol table. This includes collecting and registering all class declarations, their respective fields (attributes), and method signatures (names, return types, and parameter types), without yet analyzing the internal bodies of methods. The goal is to gather enough information so that all identifiers can be resolved during the next phase, even if their declarations appear later in the code. In the implementation, this stage is handled by the `SymbolTableBuilder` class, which walks through the AST and populates a hierarchical symbol table structure representing class scopes and their members.\n",
        "\n",
        "**Second Stage: Full Semantic Analysis**\n",
        "\n",
        "With the global symbol table built, the compiler proceeds to the second stage: a complete semantic analysis of the program. In this phase, the AST is traversed again, this time to validate the correctness of type usage, ensure that variables and methods are properly declared before use, check method bodies for type consistency, and enforce language rules such as valid assignments, and control structure conditions. The `SemanticAnalyzer` class is responsible for this stage. It relies on the symbol information collected earlier to resolve identifiers and ensure that the program adheres to the MiniJava language’s semantic constraints."
      ]
    },
    {
      "cell_type": "code",
      "execution_count": null,
      "metadata": {
        "pycharm": {
          "name": "#%%\n"
        },
        "id": "q1Xlk8hwVSvN"
      },
      "outputs": [],
      "source": [
        "class SymbolTableBuilder(NodeVisitor):\n",
        "    \"\"\"Symbol Table Builder class.\n",
        "    This class build the Symbol table of the program\n",
        "    by visiting all the AST nodes\n",
        "    using the visitor pattern.\n",
        "    \"\"\"\n",
        "\n",
        "    def __init__(self):\n",
        "        self.global_symtab = SymbolTable()\n",
        "        self.current_class: ClassMetaData | None = None\n",
        "        self.typemap = {\n",
        "            \"boolean\": BooleanType,\n",
        "            \"char\": CharType,\n",
        "            \"int\": IntType,\n",
        "            \"String\": StringType,\n",
        "            \"void\": VoidType,\n",
        "            \"int[]\": IntArrayType,\n",
        "            \"char[]\": CharArrayType,\n",
        "            \"method\": MethodType,\n",
        "            \"object\": ObjectType,\n",
        "        }\n",
        "\n",
        "    def visit_Program(self, node: Program):\n",
        "        \"\"\"Visit the program node to fill in the global symbol table\"\"\"\n",
        "        # First, register all classes in the program.\n",
        "        # Populating the global symbol table with these classes\n",
        "        for class_decl in node.class_decls:\n",
        "            # Check if the class has already been declared\n",
        "            # raise an ALREADY_DECLARED_CLASS semantic error if it was\n",
        "            class_name = class_decl.name.name\n",
        "            assert_semantic(\n",
        "                error_type=SE.ALREADY_DECLARED_CLASS,\n",
        "                condition=(self.global_symtab.lookup(class_name) is None),\n",
        "                coord=class_decl.coord,\n",
        "                name=class_name,\n",
        "            )\n",
        "\n",
        "            # Class meta data\n",
        "            class_meta = ClassMetaData(\n",
        "                name=class_decl.name.name,\n",
        "            )\n",
        "            # Add the class declaration in the global symtab\n",
        "            self.global_symtab.add(class_name, class_meta)\n",
        "\n",
        "        # Now, process each class to fill in fields and methods\n",
        "        for class_decl in node.class_decls:\n",
        "            self.visit(class_decl)\n",
        "\n",
        "        # Finally, return the global symtab to use in the next steps\n",
        "        return self.global_symtab\n",
        "\n",
        "    def visit_ClassDecl(self, node: ClassDecl):\n",
        "        # Set the current class to ensure the context for internal visits\n",
        "        self.current_class = self.global_symtab.lookup(node.name.name)\n",
        "\n",
        "        # First, if the class extends another, check that the parent exists.\n",
        "        # If the parent exists, then add its name in the current class metadata\n",
        "\n",
        "        # Then, visit all fields (var_decls) of the class\n",
        "        for field in node.var_decls:\n",
        "            self.visit(field)\n",
        "\n",
        "        # Finally, visit all class methods (method_decls)\n",
        "        for method in node.method_decls:\n",
        "            self.visit(method)\n",
        "\n",
        "        # Unset the current class context\n",
        "        self.current_class = None\n",
        "\n",
        "    def visit_VarDecl(self, node: VarDecl):\n",
        "        # First, check if the field has already been declared\n",
        "        # If it was, raise an ALREADY_DECLARED_FIELD semantic error\n",
        "        field_name = node.name.name\n",
        "        assert_semantic(\n",
        "            error_type=SE.ALREADY_DECLARED_FIELD,\n",
        "            condition=(field_name not in self.current_class.fields),\n",
        "            coord=node.coord,\n",
        "            name=field_name,\n",
        "        )\n",
        "\n",
        "        # Now, record the field and its type\n",
        "        # TODO: Use the MJTypes here?\n",
        "        self.current_class.fields[field_name] = node.type.name\n",
        "\n",
        "    def visit_MethodDecl(self, node: MethodDecl):\n",
        "        # First, check if the method has already been declared\n",
        "        method_name = node.name.name\n",
        "        assert_semantic(\n",
        "            error_type=SE.ALREADY_DECLARED_METHOD,\n",
        "            condition=(method_name not in self.current_class.methods),\n",
        "            coord=node.coord,\n",
        "            name=method_name,\n",
        "        )\n",
        "\n",
        "        # Gather parameter types\n",
        "        # Now, record the method and its signature\n",
        "        # TODO: Complete\n",
        "\n",
        "    def visit_MainMethodDecl(self, node: MainMethodDecl):\n",
        "        # The main method must have the name \"main\"\n",
        "        main_method_name = \"main\"\n",
        "        # First, check if the main method has already been declared\n",
        "        assert_semantic(\n",
        "            error_type=SE.ALREADY_DECLARED_METHOD,\n",
        "            condition=(main_method_name not in self.current_class.methods),\n",
        "            coord=node.coord,\n",
        "            name=main_method_name,\n",
        "        )\n",
        "        # Now, record the main method and its signature\n",
        "        # TODO: Complete\n",
        "\n",
        "class SemanticAnalyzer(NodeVisitor):\n",
        "    \"\"\"Semantic Analyzer class.\n",
        "    This class performs semantic analysis on the AST of a MiniJava program.\n",
        "    You need to define methods of the form visit_NodeName()\n",
        "    for each kind of AST node that you want to process.\n",
        "    \"\"\"\n",
        "\n",
        "    def __init__(self, global_symtab: SymbolTable):\n",
        "        \"\"\"\n",
        "        :param global_symtab: Global symbol table\n",
        "         with all class declaration metadata.\n",
        "        \"\"\"\n",
        "        self.global_symtab = global_symtab\n",
        "        self.typemap = {\n",
        "            \"boolean\": BooleanType,\n",
        "            \"char\": CharType,\n",
        "            \"int\": IntType,\n",
        "            \"String\": StringType,\n",
        "            \"void\": VoidType,\n",
        "            \"int[]\": IntArrayType,\n",
        "            \"char[]\": CharArrayType,\n",
        "            \"method\": MethodType,\n",
        "            \"object\": ObjectType,\n",
        "        }\n",
        "        # TODO: Add symbol table and scope management\n",
        "\n",
        "    def visit_Program(self, node: Program):\n",
        "        # Visit all class declarations in the program\n",
        "        for cls in node.class_decls:\n",
        "            self.visit(cls)\n",
        "\n",
        "    def visit_ClassDecl(self, node: ClassDecl):\n",
        "        # Visit the fields of the class (var_decls)\n",
        "        for field in node.var_decls:\n",
        "            self.visit(field)\n",
        "\n",
        "        # Then, visit the methods of the class (method_decls)\n",
        "        for method in node.method_decls:\n",
        "            self.visit(method)\n",
        "\n",
        "    def visit_BinaryOp(self, node: BinaryOp):\n",
        "        # Visit the left expression\n",
        "        self.visit(node.lvalue)\n",
        "        # Visit the right expression\n",
        "        self.visit(node.rvalue)\n",
        "        # Check if left and right operands have the same type\n",
        "        ltype = node.lvalue.mj_type\n",
        "        rtype = node.rvalue.mj_type\n",
        "        assert_semantic(\n",
        "            condition=(ltype == rtype),\n",
        "            error_type=SE.BINARY_EXPRESSION_TYPE_MISMATCH,\n",
        "            coord=node.coord,\n",
        "            name=node.op,\n",
        "            ltype=ltype,\n",
        "            rtype=rtype,\n",
        "        )\n",
        "        # Check if the operation is supported by the type\n",
        "        # Assign the type of the result of the binary expression\n",
        "        # TODO: Complete"
      ]
    },
    {
      "cell_type": "markdown",
      "metadata": {
        "id": "lazSGC-1VSvN"
      },
      "source": [
        "__IMPORTANT:__ The AST you built previously only contains information (like types) at specific nodes. Beside finding the possible remaining errors of the program, the semantic analysis should be used to figure out additional information (such as typing all expressions) which will be useful for code generation, the next compilation phase.  This process is usally called \"decorating the AST\"."
      ]
    },
    {
      "cell_type": "markdown",
      "source": [
        "## Guidelines"
      ],
      "metadata": {
        "id": "AO_pLD1aX8ON"
      }
    },
    {
      "cell_type": "markdown",
      "metadata": {
        "id": "B0wwdRAYVSvN"
      },
      "source": [
        "Additionnally, we provide a set of guidelines that can be used to implement each function of the semantic analysis\n",
        "(type checking, definition checking, etc). Please read those carefully."
      ]
    },
    {
      "cell_type": "markdown",
      "source": [
        "### `visit_Program`\n",
        "- **Action:**  \n",
        "  Traverse all class declarations.\n",
        "- **Checks:**\n",
        "  - Build the global symbol table using `SymbolTableBuilder`.\n",
        "  - **Semantic Error:** If a class is declared more than once, raise `ALREADY_DECLARED_CLASS`.\n",
        "- **Tip:** This is the entry point for semantic analysis; ensure that the global symbol table is correctly populated.\n"
      ],
      "metadata": {
        "id": "ebgOBwG9ip5V"
      }
    },
    {
      "cell_type": "markdown",
      "source": [
        "### `visit_ClassDecl`\n",
        "- **Action:**  \n",
        "  Process a class declaration.\n",
        "- **Checks:**\n",
        "  - Set the current class context.\n",
        "  - If the class extends another, verify that the parent class exists.\n",
        "    - **Semantic Error:** If the parent is not found, raise `UNDECLARED_CLASS`.\n",
        "  - Visit each field (`VarDecl`) and method (`MethodDecl`) declaration.\n",
        "- **Tip:** After processing the class, clear the current class context.\n"
      ],
      "metadata": {
        "id": "mWsI1XXOi50H"
      }
    },
    {
      "cell_type": "markdown",
      "source": [
        "### `visit_VarDecl`\n",
        "- **Action:**  \n",
        "  Process a variable declaration.\n",
        "- **Checks:**\n",
        "  - Validate that the variable's type is defined.\n",
        "    - **Semantic Error:** If the type is not built-in and not found in the global symbol table, raise `UNDECLARED_CLASS`.\n",
        "  - Ensure that the variable is not already declared in the current scope.\n",
        "    - **Semantic Error:** If already declared, raise `ALREADY_DECLARED_NAME`.\n",
        "  - If an initializer is provided:\n",
        "    - Visit the initializer node.\n",
        "    - Check that the initializer's type is compatible with the variable’s type.\n",
        "      - **Semantic Error:** If types mismatch, raise `ASSIGN_TYPE_MISMATCH`.\n",
        "    - For initializer lists (array initializations), verify that every element is a constant and of the correct type.\n",
        "      - **Semantic Error:** If an element is not a constant or has a mismatched type, raise `ARRAY_ELEMENT_TYPE_MISMATCH`.\n",
        "- **Tip:** Finally, register the variable in the current scope.\n"
      ],
      "metadata": {
        "id": "UgfoA5_9jAIv"
      }
    },
    {
      "cell_type": "markdown",
      "source": [
        "\n",
        "### `visit_MethodDecl`\n",
        "- **Action:**  \n",
        "  Process a method declaration.\n",
        "- **Checks:**\n",
        "  - Push a new scope for parameters and local variables.\n",
        "  - Set the method’s return type using the type map.\n",
        "  - Check for duplicate method declarations.\n",
        "    - **Semantic Error:** If the method is already declared, raise `ALREADY_DECLARED_METHOD`.\n",
        "  - Visit the parameter list and method body.\n",
        "  - Pop the scope after finishing the method body.\n",
        "- **Tip:** Maintain a reference to the current method to use in return type checks later.\n"
      ],
      "metadata": {
        "id": "uwYJr6hHjEZn"
      }
    },
    {
      "cell_type": "markdown",
      "source": [
        "### `visit_MainMethodDecl`\n",
        "- **Action:**  \n",
        "  Process the main method declaration.\n",
        "- **Checks:**\n",
        "  - Ensure the method is named `main` and is declared only once.\n",
        "    - **Semantic Error:** If the main method is already declared, raise `ALREADY_DECLARED_METHOD`.\n",
        "  - Push a new scope and add the main method parameter.\n",
        "  - Set the return type to `void`.\n",
        "  - Visit the main method body.\n",
        "- **Tip:** This method is similar to `visit_MethodDecl` but with rules specific to `main`.\n"
      ],
      "metadata": {
        "id": "VURN_1cojHyb"
      }
    },
    {
      "cell_type": "markdown",
      "source": [
        "### `visit_ParamDecl` and `visit_ParamList`\n",
        "- **Action:**  \n",
        "  Process method parameters.\n",
        "- **Checks:**\n",
        "  - Ensure that parameters are not declared more than once in the same scope.\n",
        "    - **Semantic Error:** If a parameter is re-declared, raise `PARAMETER_ALREADY_DECLARED`.\n",
        "  - Register each parameter’s name and type in the symbol table.\n",
        "- **Tip:** Use the type map to assign the correct type to each parameter.\n"
      ],
      "metadata": {
        "id": "2DcQx2jcjK5j"
      }
    },
    {
      "cell_type": "markdown",
      "source": [
        "### `visit_Compound`\n",
        "- **Action:**  \n",
        "  Process a block (compound statement).\n",
        "- **Checks:**\n",
        "  - For nested compound statements, push a new scope to handle local declarations.\n",
        "  - Visit each statement within the block.\n",
        "- **Tip:** Always pop the scope after processing the block.\n"
      ],
      "metadata": {
        "id": "mlMh-wb7jN_j"
      }
    },
    {
      "cell_type": "markdown",
      "source": [
        "### `visit_If`\n",
        "- **Action:**  \n",
        "  Process an if-statement.\n",
        "- **Checks:**\n",
        "  - Visit the condition expression and ensure its type is boolean.\n",
        "    - **Semantic Error:** If the condition is not boolean, raise `CONDITIONAL_EXPRESSION_TYPE_MISMATCH`.\n",
        "  - Push a new scope for the “then” branch and visit its statements.\n",
        "  - If an “else” branch exists, push a new scope and visit it.\n",
        "- **Tip:** Use `assert_semantic` to report type mismatches.\n"
      ],
      "metadata": {
        "id": "m5Tf2oKSjRGZ"
      }
    },
    {
      "cell_type": "markdown",
      "source": [
        "### `visit_While` and `visit_For`\n",
        "- **Action:**  \n",
        "  Process loop statements.\n",
        "- **Checks:**\n",
        "  - Save a reference to the current loop (for validating `break` statements).\n",
        "  - Visit the loop condition and check that its type is boolean.\n",
        "    - **Semantic Error:** If not boolean, raise `CONDITIONAL_EXPRESSION_TYPE_MISMATCH`.\n",
        "  - For `For` loops, also visit the initialization and increment expressions.\n",
        "  - Push a new scope for the loop body and process the contained statements.\n",
        "  - Pop the scope and clear the loop reference after processing.\n",
        "- **Tip:** Ensure that any `break` statement within the loop correctly identifies the enclosing loop. If a break is used outside any loop, raise `WRONG_BREAK_STATEMENT`.\n"
      ],
      "metadata": {
        "id": "fPMUfcTfjVL_"
      }
    },
    {
      "cell_type": "markdown",
      "source": [
        "### `visit_Print`\n",
        "- **Action:**  \n",
        "  Process a print statement.\n",
        "- **Checks:**\n",
        "  - Visit the expression(s) to be printed.\n",
        "  - Ensure that each printed expression is of an allowed type (e.g., `char`, `int`, or `String`).\n",
        "    - **Semantic Error:** If an expression is of an unsupported type, raise `PRINT_EXPRESSION_TYPE_MISMATCH`.\n",
        "- **Tip:** Handle both single expressions and lists of expressions.\n"
      ],
      "metadata": {
        "id": "sba7jWHcjYu7"
      }
    },
    {
      "cell_type": "markdown",
      "source": [
        "### `visit_Assert`\n",
        "- **Action:**  \n",
        "  Process an assert statement.\n",
        "- **Checks:**\n",
        "  - Visit the assert expression and verify that it is of boolean type.\n",
        "    - **Semantic Error:** If not boolean, raise `ASSERT_EXPRESSION_TYPE_MISMATCH`.\n",
        "- **Tip:** Ensure the condition of assert expressions is correctly validated.\n"
      ],
      "metadata": {
        "id": "hCHtUSVejb6L"
      }
    },
    {
      "cell_type": "markdown",
      "source": [
        "### `visit_Break`\n",
        "- **Action:**  \n",
        "  Process a break statement.\n",
        "- **Checks:**\n",
        "  - Ensure that the break statement occurs within a loop.\n",
        "    - **Semantic Error:** If not, raise `WRONG_BREAK_STATEMENT`.\n",
        "- **Tip:** Use the stored loop reference to validate the break.\n"
      ],
      "metadata": {
        "id": "NdX1qwXsjegf"
      }
    },
    {
      "cell_type": "markdown",
      "source": [
        "### `visit_Return`\n",
        "- **Action:**  \n",
        "  Process a return statement.\n",
        "- **Checks:**\n",
        "  - If an expression is provided, visit it to determine its type.\n",
        "  - Compare the return expression’s type against the current method’s declared return type.\n",
        "    - **Semantic Error:** If they do not match, raise `RETURN_TYPE_MISMATCH`.\n",
        "- **Tip:** Use the current method context (set in `visit_MethodDecl` or `visit_MainMethodDecl`) to perform the comparison."
      ],
      "metadata": {
        "id": "WbGUMGNDjmX3"
      }
    },
    {
      "cell_type": "markdown",
      "source": [
        "### `visit_Assignment`\n",
        "- **Action:**  \n",
        "  Process an assignment expression.\n",
        "- **Checks:**\n",
        "  - Visit both the left-hand side (lvalue) and right-hand side (rvalue).\n",
        "  - Ensure that the identifier being assigned to is declared.\n",
        "    - **Semantic Error:** If not declared, raise `UNDECLARED_NAME`.\n",
        "  - Verify that the type of the rvalue is compatible with the type of the lvalue.\n",
        "    - **Semantic Error:** If the types do not match, raise `ASSIGN_TYPE_MISMATCH`.\n",
        "- **Tip:** Use `assert_semantic` to report type compatibility issues.\n"
      ],
      "metadata": {
        "id": "lZtWLK1Mjq8D"
      }
    },
    {
      "cell_type": "markdown",
      "source": [
        "### `visit_BinaryOp`\n",
        "- **Action:**  \n",
        "  Process a binary operation.\n",
        "- **Checks:**\n",
        "  - Visit both the left and right operand expressions.\n",
        "  - Verify that both operands have the same type.\n",
        "    - **Semantic Error:** If the types differ, raise `BINARY_EXPRESSION_TYPE_MISMATCH`.\n",
        "  - Check that the operator is supported by the operand type (using the type’s `binary_ops` and `rel_ops`).\n",
        "    - **Semantic Error:** If unsupported, raise `UNSUPPORTED_BINARY_OPERATION`.\n",
        "  - Determine and assign the result type:\n",
        "    - For arithmetic operators, the result is usually the same as the operand type.\n",
        "    - For relational operators, the result is of type `boolean`.\n",
        "- **Tip:** Leverage the operator sets from the type definitions.\n"
      ],
      "metadata": {
        "id": "WXecZMuUjvVn"
      }
    },
    {
      "cell_type": "markdown",
      "source": [
        "### `visit_UnaryOp`\n",
        "- **Action:**  \n",
        "  Process a unary operation.\n",
        "- **Checks:**\n",
        "  - Visit the operand expression.\n",
        "  - Ensure that the operator is supported by the operand’s type (using the type’s `unary_ops`).\n",
        "    - **Semantic Error:** If not supported, raise `UNSUPPORTED_UNARY_OPERATION`.\n",
        "  - Set the result type to be the same as the operand’s type.\n",
        "- **Tip:** Report unsupported operations with `assert_semantic`.\n"
      ],
      "metadata": {
        "id": "TE-uLSknjzUv"
      }
    },
    {
      "cell_type": "markdown",
      "source": [
        "### `visit_ArrayRef`\n",
        "- **Action:**  \n",
        "  Process an array reference expression.\n",
        "- **Checks:**\n",
        "  - Visit the subscript expression and verify that its type is `int`.\n",
        "    - **Semantic Error:** If not, raise `ARRAY_DIMENTION_MISMATCH`.\n",
        "  - Visit the array name and confirm that it is of an array type (e.g., `IntArrayType` or `CharArrayType`).\n",
        "    - **Semantic Error:** If the name’s type is not an array type, raise `ARRAY_REF_TYPE_MISMATCH`.\n",
        "  - Set the node’s type to the array’s element type.\n",
        "- **Tip:** Use the array type’s `element_type` attribute when setting the type.\n",
        "\n"
      ],
      "metadata": {
        "id": "rT9Xq1z1j1mL"
      }
    },
    {
      "cell_type": "markdown",
      "source": [
        "### `visit_FieldAccess`\n",
        "- **Action:**  \n",
        "  Process field access on an object.\n",
        "- **Checks:**\n",
        "  - Visit the object expression.\n",
        "  - Ensure that the object is defined and is of an object type (not a primitive).\n",
        "    - **Semantic Error:** If the object is not defined, raise `UNDECLARED_NAME`; if it’s a primitive, raise `OBJECT_TYPE_MUST_BE_A_CLASS`.\n",
        "  - Check that the requested field exists in the object’s class or its parent classes.\n",
        "    - **Semantic Error:** If the field is not found, raise `UNDECLARED_FIELD`.\n",
        "  - Set the resulting type based on the field’s definition.\n",
        "- **Tip:** Consider inheritance when merging fields from the class and its parent."
      ],
      "metadata": {
        "id": "oFN0kN6Lj6qv"
      }
    },
    {
      "cell_type": "markdown",
      "source": [
        "\n",
        "### `visit_MethodCall`\n",
        "- **Action:**  \n",
        "  Process a method invocation.\n",
        "- **Checks:**\n",
        "  - Visit the object on which the method is called.\n",
        "  - Verify that the object is defined and is of an object type.\n",
        "    - **Semantic Error:** If the object is not declared, raise `UNDECLARED_NAME`; if it’s not an object, raise `OBJECT_TYPE_MUST_BE_A_CLASS`.\n",
        "  - Check that the method exists in the object’s class.\n",
        "    - **Semantic Error:** If not, raise `UNDECLARED_METHOD`.\n",
        "  - Visit the argument expressions and validate:\n",
        "    - The number of arguments matches the method signature.\n",
        "      - **Semantic Error:** If there is a mismatch, raise `ARGUMENT_COUNT_MISMATCH`.\n",
        "    - Each argument’s type matches the corresponding parameter type.\n",
        "      - **Semantic Error:** If a type does not match, raise `PARAMETER_TYPE_MISMATCH`.\n",
        "  - Set the node’s type to the method’s return type.\n",
        "- **Tip:** Use the method signature stored in the class metadata for validations.\n"
      ],
      "metadata": {
        "id": "Esq0QuECj_AH"
      }
    },
    {
      "cell_type": "markdown",
      "source": [
        "\n",
        "### `visit_Length`\n",
        "- **Action:**  \n",
        "  Process the length operator (applied to arrays or strings).\n",
        "- **Checks:**\n",
        "  - Visit the expression whose length is requested.\n",
        "  - Verify that the expression is either an array or a string.\n",
        "    - **Semantic Error:** If not, raise `INVALID_LENGTH_TARGET`.\n",
        "  - Set the type of the length expression to `int`.\n",
        "- **Tip:** Ensure that the target is valid before assigning the type.\n"
      ],
      "metadata": {
        "id": "hOXe5ogekB0b"
      }
    },
    {
      "cell_type": "markdown",
      "source": [
        "### `visit_NewArray`\n",
        "- **Action:**  \n",
        "  Process new array creation.\n",
        "- **Checks:**\n",
        "  - Visit the expression that determines the array size.\n",
        "  - Confirm that the size expression is of type `int`.\n",
        "    - **Semantic Error:** If not, raise `ARRAY_DIMENTION_MISMATCH`.\n",
        "  - Create the corresponding array type instance (using `IntArrayType` or `CharArrayType`) and assign it to the node.\n",
        "- **Tip:** Ensure that the element type is correctly used in the array type constructor.\n"
      ],
      "metadata": {
        "id": "vnHZoaezkEXL"
      }
    },
    {
      "cell_type": "markdown",
      "source": [
        "### `visit_NewObject`\n",
        "- **Action:**  \n",
        "  Process new object creation.\n",
        "- **Checks:**\n",
        "  - Check that the class specified for the new object exists in the global symbol table.\n",
        "    - **Semantic Error:** If the class is not found, raise `UNDECLARED_CLASS`.\n",
        "  - Set the node’s type to an `ObjectType` associated with the given class.\n",
        "- **Tip:** Validate class existence before setting the type.\n"
      ],
      "metadata": {
        "id": "VH5UsobckGX_"
      }
    },
    {
      "cell_type": "markdown",
      "source": [
        "### `visit_Constant`\n",
        "- **Action:**  \n",
        "  Process a literal constant.\n",
        "- **Checks:**\n",
        "  - Directly assign the corresponding MJType (using the type map) to the constant node.\n",
        "- **Tip:** Ensure the constant’s type (e.g., `int`, `char`) matches the expected MJType.\n"
      ],
      "metadata": {
        "id": "RV1B2-qAkIvr"
      }
    },
    {
      "cell_type": "markdown",
      "source": [
        "### `visit_This`\n",
        "- **Action:**  \n",
        "  Process the `this` expression.\n",
        "- **Checks:**\n",
        "  - Set the node’s type to the current class type.\n",
        "  - Record the current class name.\n",
        "- **Tip:** The current class context must be set in `visit_ClassDecl` before using `this`.\n"
      ],
      "metadata": {
        "id": "5pag0SrEkLBz"
      }
    },
    {
      "cell_type": "markdown",
      "source": [
        "### `visit_ID`\n",
        "- **Action:**  \n",
        "  Process an identifier.\n",
        "- **Checks:**\n",
        "  - Look up the identifier in the symbol table stack.\n",
        "  - Ensure that the identifier is declared.\n",
        "    - **Semantic Error:** If not found, raise `UNDECLARED_NAME`.\n",
        "  - Set the node’s type and record the scope where it was declared.\n",
        "- **Tip:** Report undeclared identifiers immediately."
      ],
      "metadata": {
        "id": "ZH5q9R-YkNfr"
      }
    },
    {
      "cell_type": "markdown",
      "source": [
        "### `visit_Type`\n",
        "- **Action:**  \n",
        "  Process a type specifier.\n",
        "- **Checks:**\n",
        "  - Use the type map to resolve the string name to the corresponding MJType.\n",
        "- **Tip:** This is a straightforward visit to support other nodes.\n"
      ],
      "metadata": {
        "id": "Vtm1xhAukPgj"
      }
    },
    {
      "cell_type": "markdown",
      "source": [
        "### `visit_Extends`\n",
        "- **Action:**  \n",
        "  Process inheritance.\n",
        "- **Checks:**\n",
        "  - Verify that the parent (super) class exists in the global symbol table.\n",
        "    - **Semantic Error:** If the parent class is undeclared, raise `UNDECLARED_CLASS`.\n",
        "- **Tip:** Check the existence of the super class early in class processing."
      ],
      "metadata": {
        "id": "DXeR23HLkRkT"
      }
    },
    {
      "cell_type": "markdown",
      "source": [
        "### `visit_ExprList` and `visit_InitList`\n",
        "- **Action:**  \n",
        "  Process lists of expressions.\n",
        "- **Checks for `ExprList`:**\n",
        "  - Visit each expression in the list.\n",
        "- **Checks for `InitList`:**\n",
        "  - Visit each initializer expression.\n",
        "  - For `InitList`, ensure every expression is a constant.\n",
        "    - **Semantic Error:** If an initializer is not a constant, raise `NOT_A_CONSTANT`.\n",
        "  - Set the node’s type to the correct array type based on the elements.\n",
        "- **Tip:** Handle the possibility of an empty list appropriately if needed."
      ],
      "metadata": {
        "id": "4feCDyp2kU9v"
      }
    }
  ]
}